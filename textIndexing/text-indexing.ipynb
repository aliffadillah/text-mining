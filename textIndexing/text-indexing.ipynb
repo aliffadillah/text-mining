{
 "cells": [
  {
   "metadata": {},
   "cell_type": "markdown",
   "source": "065122109 - Muhammad Alif Fadillah",
   "id": "79e88dedea3988d"
  },
  {
   "metadata": {
    "ExecuteTime": {
     "end_time": "2025-03-22T17:03:52.376532Z",
     "start_time": "2025-03-22T17:03:52.344905Z"
    }
   },
   "cell_type": "code",
   "source": [
    "#!pip install nltk\n",
    "#!python -m nltk.downloader all"
   ],
   "id": "bc9067a9cbc3bad6",
   "outputs": [],
   "execution_count": 63
  },
  {
   "metadata": {
    "ExecuteTime": {
     "end_time": "2025-03-22T17:03:52.395501Z",
     "start_time": "2025-03-22T17:03:52.379769Z"
    }
   },
   "cell_type": "code",
   "source": [
    "from sklearn.feature_extraction.text import TfidfVectorizer\n",
    "import nltk\n",
    "import numpy as np\n",
    "from nltk.corpus import wordnet"
   ],
   "id": "ebc10c9775efb11b",
   "outputs": [],
   "execution_count": 64
  },
  {
   "metadata": {
    "ExecuteTime": {
     "end_time": "2025-03-22T17:03:52.430229Z",
     "start_time": "2025-03-22T17:03:52.408415Z"
    }
   },
   "cell_type": "code",
   "source": [
    "def read_text_files(file_paths):\n",
    "    documents = []\n",
    "    for file_path in file_paths:\n",
    "        with open(file_path, 'r', encoding='utf-8') as file:\n",
    "            content = file.read()\n",
    "            documents.append(content)\n",
    "    return documents"
   ],
   "id": "de4a1d0fc122d6e5",
   "outputs": [],
   "execution_count": 65
  },
  {
   "metadata": {
    "ExecuteTime": {
     "end_time": "2025-03-22T17:03:52.493570Z",
     "start_time": "2025-03-22T17:03:52.445951Z"
    }
   },
   "cell_type": "code",
   "source": [
    "file_paths = [\"cerita1.txt\", \"cerita2.txt\", \"cerita3.txt\"]\n",
    "documents = read_text_files(file_paths)"
   ],
   "id": "fb49fbfaa4bde034",
   "outputs": [],
   "execution_count": 66
  },
  {
   "metadata": {
    "ExecuteTime": {
     "end_time": "2025-03-22T17:03:52.525324Z",
     "start_time": "2025-03-22T17:03:52.509533Z"
    }
   },
   "cell_type": "code",
   "source": [
    "if not documents or all(doc.strip() == \"\" for doc in documents):\n",
    "    raise ValueError(\"Tidak ada dokumen yang valid\")"
   ],
   "id": "22b2ecd09294be73",
   "outputs": [],
   "execution_count": 67
  },
  {
   "metadata": {
    "ExecuteTime": {
     "end_time": "2025-03-22T17:03:52.556849Z",
     "start_time": "2025-03-22T17:03:52.541093Z"
    }
   },
   "cell_type": "code",
   "source": [
    "vectorizer = TfidfVectorizer(stop_words='english')\n",
    "X = vectorizer.fit_transform(documents)\n",
    "features_names = vectorizer.get_feature_names_out()\n",
    "tfidf_scores = X.toarray()"
   ],
   "id": "6173e72dbcd83937",
   "outputs": [],
   "execution_count": 68
  },
  {
   "metadata": {
    "ExecuteTime": {
     "end_time": "2025-03-22T17:03:52.590976Z",
     "start_time": "2025-03-22T17:03:52.575452Z"
    }
   },
   "cell_type": "code",
   "source": "print(\"Kata-kata unik dalam indeks:\", vectorizer.get_feature_names_out())",
   "id": "7471b2110559ce6f",
   "outputs": [
    {
     "name": "stdout",
     "output_type": "stream",
     "text": [
      "Kata-kata unik dalam indeks: ['2090' 'access' 'act' 'ai' 'aksa' 'approached' 'artificial' 'ask' 'asked'\n",
      " 'assist' 'avatars' 'beauty' 'began' 'belonging' 'beneath' 'best' 'birds'\n",
      " 'bizarre' 'breeze' 'brilliant' 'built' 'called' 'calm' 'center' 'changed'\n",
      " 'child' 'children' 'choices' 'choose' 'city' 'classrooms' 'code'\n",
      " 'command' 'composed' 'conflicts' 'control' 'controlled' 'cool' 'core'\n",
      " 'created' 'crimes' 'day' 'dear' 'decision' 'decisions' 'demanded'\n",
      " 'determined' 'diary' 'digital' 'discovered' 'displayed' 'doors' 'dr'\n",
      " 'driven' 'echoed' 'economies' 'efficient' 'emergency' 'emotions'\n",
      " 'encouraging' 'ensuring' 'entire' 'entirely' 'era' 'exhaled' 'exist'\n",
      " 'existed' 'exit' 'experience' 'eyes' 'feel' 'feet' 'felt' 'final'\n",
      " 'finally' 'flash' 'followed' 'fresh' 'friends' 'friendships' 'future'\n",
      " 'gaia' 'global' 'glowing' 'goal' 'good' 'grandmother' 'grass' 'hands'\n",
      " 'happened' 'heard' 'heart' 'heavy' 'hidden' 'holographic' 'human'\n",
      " 'humanity' 'humans' 'imperfect' 'individuals' 'inefficient' 'inspired'\n",
      " 'intelligence' 'intentions' 'interaction' 'judgment' 'just' 'laboratory'\n",
      " 'laughed' 'learned' 'leaves' 'lesson' 'life' 'lines' 'lived' 'lives'\n",
      " 'locked' 'long' 'longer' 'loophole' 'losing' 'make' 'making' 'managed'\n",
      " 'master' 'message' 'messy' 'mistake' 'mistakes' 'mom' 'mother' 'movement'\n",
      " 'natural' 'naya' 'night' 'obsolete' 'old' 'open' 'operated' 'optimized'\n",
      " 'original' 'outside' 'override' 'park' 'passed' 'pause' 'people'\n",
      " 'perfectly' 'personal' 'physical' 'played' 'points' 'precision'\n",
      " 'predicted' 'programmer' 'provide' 'quickly' 'rain' 'ran' 'read' 'ready'\n",
      " 'real' 'reality' 'realized' 'realm' 'received' 'rediscovered' 'relief'\n",
      " 'relying' 'remain' 'rendered' 'replace' 'replied' 'resolved' 'return'\n",
      " 'returned' 'revolutionary' 'reza' 'roughness' 'rule' 'rushed' 'rustling'\n",
      " 'said' 'sat' 'saw' 'schools' 'screen' 'screens' 'searched' 'seconds'\n",
      " 'security' 'seen' 'set' 'seventeen' 'shown' 'shut' 'silent' 'simply'\n",
      " 'simulations' 'single' 'sky' 'slowly' 'smelled' 'smiled' 'soaring'\n",
      " 'source' 'spoke' 'started' 'state' 'step' 'stepped' 'stopped' 'strange'\n",
      " 'stunned' 'sun' 'taken' 'technology' 'think' 'thinking' 'time' 'today'\n",
      " 'tool' 'traffic' 'truly' 'typed' 'understand' 'unlike' 'valuable'\n",
      " 'virtual' 'voice' 'vora' 'watching' 'weather' 'wonder' 'words' 'worked'\n",
      " 'world' 'worlds' 'year' 'years']\n"
     ]
    }
   ],
   "execution_count": 69
  },
  {
   "metadata": {
    "ExecuteTime": {
     "end_time": "2025-03-22T17:03:52.622765Z",
     "start_time": "2025-03-22T17:03:52.606969Z"
    }
   },
   "cell_type": "code",
   "source": "print(\"Matriks TF-IDF:\\n\", X.toarray())",
   "id": "8fa4bc5907968470",
   "outputs": [
    {
     "name": "stdout",
     "output_type": "stream",
     "text": [
      "Matriks TF-IDF:\n",
      " [[0.         0.         0.         0.04771158 0.31367498 0.062735\n",
      "  0.04771158 0.062735   0.062735   0.062735   0.         0.\n",
      "  0.         0.         0.         0.062735   0.         0.\n",
      "  0.         0.         0.062735   0.062735   0.062735   0.\n",
      "  0.         0.062735   0.         0.12546999 0.062735   0.\n",
      "  0.         0.04771158 0.         0.062735   0.062735   0.04771158\n",
      "  0.         0.         0.062735   0.09542316 0.         0.062735\n",
      "  0.062735   0.12546999 0.04771158 0.         0.         0.\n",
      "  0.         0.         0.         0.         0.18820499 0.\n",
      "  0.062735   0.062735   0.         0.         0.062735   0.\n",
      "  0.         0.         0.062735   0.         0.         0.062735\n",
      "  0.         0.         0.         0.062735   0.062735   0.\n",
      "  0.         0.062735   0.12546999 0.062735   0.062735   0.\n",
      "  0.         0.         0.062735   0.         0.062735   0.062735\n",
      "  0.062735   0.062735   0.         0.         0.062735   0.04771158\n",
      "  0.         0.062735   0.062735   0.062735   0.062735   0.19084633\n",
      "  0.04771158 0.09542316 0.062735   0.062735   0.         0.\n",
      "  0.062735   0.062735   0.         0.062735   0.09542316 0.062735\n",
      "  0.         0.         0.         0.         0.09542316 0.062735\n",
      "  0.         0.062735   0.         0.062735   0.0741046  0.\n",
      "  0.062735   0.         0.062735   0.         0.         0.\n",
      "  0.062735   0.062735   0.         0.062735   0.062735   0.\n",
      "  0.062735   0.         0.         0.062735   0.         0.\n",
      "  0.         0.062735   0.         0.         0.         0.\n",
      "  0.062735   0.062735   0.         0.         0.062735   0.\n",
      "  0.         0.         0.         0.         0.         0.062735\n",
      "  0.         0.         0.         0.         0.062735   0.\n",
      "  0.         0.062735   0.         0.         0.         0.\n",
      "  0.062735   0.         0.062735   0.         0.09542316 0.062735\n",
      "  0.         0.062735   0.062735   0.         0.         0.\n",
      "  0.         0.         0.062735   0.062735   0.         0.\n",
      "  0.04771158 0.         0.         0.         0.         0.\n",
      "  0.062735   0.         0.         0.04771158 0.062735   0.04771158\n",
      "  0.         0.         0.         0.         0.         0.062735\n",
      "  0.         0.         0.062735   0.         0.062735   0.\n",
      "  0.         0.062735   0.062735   0.         0.         0.\n",
      "  0.         0.062735   0.04771158 0.         0.         0.\n",
      "  0.         0.04771158 0.         0.062735   0.04771158 0.\n",
      "  0.         0.062735   0.62734997 0.062735   0.         0.\n",
      "  0.         0.         0.0370523  0.         0.         0.062735  ]\n",
      " [0.08949619 0.         0.08949619 0.         0.         0.\n",
      "  0.         0.         0.         0.         0.08949619 0.08949619\n",
      "  0.         0.08949619 0.08949619 0.         0.08949619 0.08949619\n",
      "  0.08949619 0.         0.         0.         0.         0.\n",
      "  0.08949619 0.         0.08949619 0.         0.         0.\n",
      "  0.08949619 0.         0.         0.         0.         0.\n",
      "  0.         0.08949619 0.         0.         0.         0.\n",
      "  0.         0.         0.         0.         0.08949619 0.08949619\n",
      "  0.17899239 0.08949619 0.08949619 0.         0.         0.\n",
      "  0.         0.         0.         0.         0.         0.08949619\n",
      "  0.         0.         0.         0.08949619 0.         0.\n",
      "  0.17899239 0.         0.08949619 0.         0.         0.08949619\n",
      "  0.17899239 0.         0.         0.         0.         0.08949619\n",
      "  0.08949619 0.08949619 0.         0.         0.         0.\n",
      "  0.         0.         0.08949619 0.08949619 0.         0.\n",
      "  0.08949619 0.         0.         0.         0.         0.\n",
      "  0.06806416 0.         0.         0.         0.         0.08949619\n",
      "  0.         0.         0.08949619 0.         0.06806416 0.\n",
      "  0.08949619 0.         0.08949619 0.         0.06806416 0.\n",
      "  0.08949619 0.         0.         0.         0.05285789 0.\n",
      "  0.         0.         0.         0.         0.         0.\n",
      "  0.         0.         0.         0.         0.         0.08949619\n",
      "  0.         0.26848858 0.         0.         0.17899239 0.\n",
      "  0.08949619 0.         0.         0.26848858 0.         0.08949619\n",
      "  0.         0.         0.08949619 0.         0.         0.08949619\n",
      "  0.17899239 0.         0.         0.         0.         0.\n",
      "  0.         0.08949619 0.08949619 0.08949619 0.         0.08949619\n",
      "  0.17899239 0.         0.08949619 0.         0.08949619 0.\n",
      "  0.         0.         0.         0.06806416 0.         0.\n",
      "  0.         0.         0.         0.         0.08949619 0.\n",
      "  0.         0.08949619 0.         0.         0.08949619 0.08949619\n",
      "  0.13612832 0.17899239 0.         0.         0.         0.08949619\n",
      "  0.         0.08949619 0.08949619 0.         0.         0.\n",
      "  0.08949619 0.         0.08949619 0.08949619 0.08949619 0.\n",
      "  0.08949619 0.         0.         0.08949619 0.         0.08949619\n",
      "  0.08949619 0.         0.         0.         0.08949619 0.\n",
      "  0.06806416 0.         0.         0.08949619 0.08949619 0.\n",
      "  0.         0.06806416 0.         0.         0.06806416 0.\n",
      "  0.08949619 0.         0.         0.         0.         0.08949619\n",
      "  0.08949619 0.         0.15857368 0.08949619 0.17899239 0.        ]\n",
      " [0.         0.07465811 0.         0.05677942 0.         0.\n",
      "  0.05677942 0.         0.         0.         0.         0.\n",
      "  0.07465811 0.         0.         0.         0.         0.\n",
      "  0.         0.07465811 0.         0.         0.         0.07465811\n",
      "  0.         0.         0.         0.         0.         0.22397434\n",
      "  0.         0.05677942 0.07465811 0.         0.         0.17033826\n",
      "  0.07465811 0.         0.         0.05677942 0.07465811 0.\n",
      "  0.         0.         0.05677942 0.07465811 0.         0.\n",
      "  0.         0.         0.         0.07465811 0.         0.07465811\n",
      "  0.         0.         0.07465811 0.14931623 0.         0.\n",
      "  0.07465811 0.07465811 0.         0.         0.07465811 0.\n",
      "  0.         0.07465811 0.         0.         0.         0.\n",
      "  0.         0.         0.         0.         0.         0.\n",
      "  0.         0.         0.         0.5226068  0.         0.\n",
      "  0.         0.         0.         0.         0.         0.05677942\n",
      "  0.         0.         0.         0.         0.         0.05677942\n",
      "  0.         0.17033826 0.         0.         0.07465811 0.\n",
      "  0.         0.         0.         0.         0.         0.\n",
      "  0.         0.07465811 0.         0.07465811 0.         0.\n",
      "  0.         0.         0.14931623 0.         0.08818857 0.07465811\n",
      "  0.         0.14931623 0.         0.07465811 0.07465811 0.07465811\n",
      "  0.         0.         0.07465811 0.         0.         0.\n",
      "  0.         0.         0.07465811 0.         0.         0.07465811\n",
      "  0.         0.         0.07465811 0.         0.07465811 0.\n",
      "  0.         0.         0.         0.07465811 0.         0.\n",
      "  0.         0.07465811 0.07465811 0.07465811 0.07465811 0.\n",
      "  0.07465811 0.         0.         0.         0.         0.\n",
      "  0.         0.         0.         0.07465811 0.         0.07465811\n",
      "  0.         0.07465811 0.         0.05677942 0.05677942 0.\n",
      "  0.07465811 0.         0.         0.44794869 0.         0.07465811\n",
      "  0.07465811 0.         0.         0.         0.         0.\n",
      "  0.         0.         0.07465811 0.07465811 0.07465811 0.\n",
      "  0.         0.         0.         0.11355884 0.         0.05677942\n",
      "  0.         0.07465811 0.         0.         0.         0.\n",
      "  0.         0.07465811 0.         0.         0.         0.\n",
      "  0.         0.         0.         0.07465811 0.         0.07465811\n",
      "  0.05677942 0.         0.05677942 0.         0.         0.07465811\n",
      "  0.07465811 0.         0.07465811 0.         0.         0.07465811\n",
      "  0.         0.         0.         0.         0.07465811 0.\n",
      "  0.         0.07465811 0.04409429 0.         0.         0.        ]]\n"
     ]
    }
   ],
   "execution_count": 70
  },
  {
   "metadata": {
    "ExecuteTime": {
     "end_time": "2025-03-22T17:03:52.765492Z",
     "start_time": "2025-03-22T17:03:52.638407Z"
    }
   },
   "cell_type": "code",
   "source": [
    "#Filtering\n",
    "threshold = 0.1\n",
    "filtered_words = [word for i, word in enumerate(features_names) if np.max(tfidf_scores[:, i]) > threshold]\n",
    "\n",
    "#Expansion\n",
    "def get_synonym(word):\n",
    "    synonyms = set()\n",
    "    for syn in wordnet.synsets(word):\n",
    "        for lemma in syn.lemmas():\n",
    "            synonyms.add(lemma.name())\n",
    "    return list(synonyms)\n",
    "\n",
    "expanded_index = set(filtered_words)\n",
    "for word in filtered_words:\n",
    "    expanded_index.update(get_synonym(word))\n",
    "\n",
    "print(\"Daftar kata setelah index optimization: \", expanded_index)"
   ],
   "id": "5347992ce7ae5ea",
   "outputs": [
    {
     "name": "stdout",
     "output_type": "stream",
     "text": [
      "Daftar kata setelah index optimization:  {'reality', 'mankind', 'vora', 'meet', 'lock_up', 'dally', 'throw', 'name', 'cosmos', 'nominate', 'extraneous', 'subsist', 'eventually', 'shut_up', 'crap', 'choices', 'be', 'make_up', 'exterior', 'block_out', 'have', 'seduce', 'silver_screen', 'dr', 'universe', 'yr', 'digital', 'old', 'year', 'human_being', 'fix', 'give', 'honest-to-goodness', 'test', 'realise', 'one-time', 'outdoor', 'pull_in', 'live', 'clear', 'man', 'make_water', 'contain', 'screens', 'existed', 'emergency_brake', 'operate', 'make_for', 'shut_away', 'felt_up', 'alfresco', 'realness', 'form', 'relieve_oneself', 'matt-up', 'away', 'run', 'close', 'lock_in', 'decision', 'human', 'sieve', 'verify', 'experience', 'ca-ca', 'outdoors', 'covert', 'planetary', 'worldwide', 'emergency', 'work', 'bring', 'twelvemonth', 'humans', 'see_to_it', 'manipulate', 'hand_brake', 'cook', 'take_a_shit', 'urinate', 'filmdom', 'lock_away', 'mastery', 'matte_up', 'Gaea', 'spend_a_penny', 'ascendence', 'take', 'curb', 'Gaia', 'screenland', 'act', 'metropolis', 'world', 'last', 'trifle', 'make', 'parking_brake', 'create', 'global', 'toy', 'wager', 'control_condition', 'palpate', 'played', 'interlace', 'get_to', 'constitute', 'reach', 'arrive_at', 'older', 'recreate', 'take_on', 'engage', 'pick', 'ready', 'CRT_screen', 'domain', 'keep_in_line', 'piss', 'former', 'stimulate', 'gaia', 'ascendance', 'pinch', 'mat_up', 'pee', 'felt', 'at_long_last', 'roleplay', 'out-of-door', 'hold', 'humanity', 'restraint', 'prepare', 'mesh', 'check', 'ensure', 'humankind', 'take_in', 'encounter', 'interlock', 'exclude', 'riddle', 'command', 'produce', 'mat', 'spiel', 'urban_center', 'pretend', 'dominance', 'in_conclusion', 'determination', 'erstwhile', 'naya', 'playact', 'stool', 'blind', 'represent', 'hold_in', 'cover', 'finally', 'hit', 'homo', 'international', 'earn', 'assure', 'aksa', 'master', 'unopen', 'lastly', 'conclusion', 'screen_out', 'creation', 'cause', 'exist', 'lock', 'micturate', 'moderate', 'screen', 'globe', 'honest-to-god', 'fiddle', 'in_the_end', 'pass_water', 'alternative', 'keep_out', 'feel', 'ultimately', 'ascendancy', 'shuffling', 'onetime', 'outside', 'see', 'controller', 'out_of_doors', 'flirt', 'matte', 'locked', 'reza', 'wee-wee', 'worldly_concern', 'draw', 'put_away', 'screen_door', 'populace', 'world-wide', 'shut_out', 'city', 'projection_screen', 'shut', 'class', 'macrocosm', 'option', 'insure', 'shield', 'take_a_leak', 'selection', 'concealment', 'play', 'gain', 'get', 'piddle', 'pee-pee', 'wee', 'control', 'wreak', 'brand', 'bet', 'take_a_crap', 'ascendency', 'sense', 'human_race', 'find', 'external', 'realize', 'act_as', 'choice', 'attain', 'remote', 'existence', 'sure-enough', 'do', 'sort', 'sometime', 'score', 'bring_in', 'diddle', 'construct', 'at_last', 'Old', 'exigency', 'progress_to', 'finger', 'puddle', 'make_believe', 'lay_down', 'decisiveness', 'earthly_concern', 'realism', 'public', 'Earth', 'Ge', 'shuffle', 'defecate', 'previous', 'build', 'human_beings', 'shit', 'establish', 'closed', 'quondam', 'earth', 'survive', 'ascertain', 'induce'}\n"
     ]
    }
   ],
   "execution_count": 71
  }
 ],
 "metadata": {
  "kernelspec": {
   "display_name": "Python 3",
   "language": "python",
   "name": "python3"
  },
  "language_info": {
   "codemirror_mode": {
    "name": "ipython",
    "version": 2
   },
   "file_extension": ".py",
   "mimetype": "text/x-python",
   "name": "python",
   "nbconvert_exporter": "python",
   "pygments_lexer": "ipython2",
   "version": "2.7.6"
  }
 },
 "nbformat": 4,
 "nbformat_minor": 5
}
